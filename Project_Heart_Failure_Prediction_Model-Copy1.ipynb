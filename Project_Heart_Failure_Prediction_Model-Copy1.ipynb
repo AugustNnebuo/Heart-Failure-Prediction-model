{
 "cells": [
  {
   "cell_type": "markdown",
   "metadata": {
    "id": "oRtyRzg-LF8G"
   },
   "source": [
    "#  Heart Failure Prediction"
   ]
  },
  {
   "cell_type": "markdown",
   "metadata": {
    "id": "to-cjmwY6n9l"
   },
   "source": [
    "\n",
    "\n",
    "\n",
    "\n",
    "\n",
    "\n",
    "\n",
    "\n",
    "\n",
    "\n",
    "\n"
   ]
  },
  {
   "cell_type": "markdown",
   "metadata": {
    "id": "Ai38Z5-QU11b"
   },
   "source": [
    "### <font color = 'green'>Problem Statement<font>"
   ]
  },
  {
   "cell_type": "markdown",
   "metadata": {
    "id": "-xYHIXbLVdZ7"
   },
   "source": [
    "A machine learning model can be of significant assistance in the early detection and management of cardiovascular disease and high cardiovascular risk individuals (due to the existence of one or more risk factors such as hypertension, diabetes, hyperlipidaemia, or already established disease).\n",
    "Using AI methods, we automate the solution to yet another natural phenomenon in the hopes of mitigating it and moving on to the next issue.\n",
    "\n",
    "\n",
    "\n"
   ]
  },
  {
   "cell_type": "markdown",
   "metadata": {
    "id": "fvqJxZFrVkuA"
   },
   "source": [
    "### <font color = 'green'>Research questions<font>"
   ]
  },
  {
   "cell_type": "markdown",
   "metadata": {
    "id": "DPiEPrvFVmQo"
   },
   "source": [
    "- What Machine Learning algorithms are used in the diagnosis of heart\n",
    "disease?\n",
    "- What machine learning model was best suited for the prediction?\n",
    "- How can Machine Learning be used to detect early abnormalities, thus\n",
    "benefiting both patients and the healthcare system?"
   ]
  },
  {
   "cell_type": "markdown",
   "metadata": {
    "id": "tkq2vKXDgXgL"
   },
   "source": [
    "### <font color = 'green'>View our Data<font>"
   ]
  },
  {
   "cell_type": "markdown",
   "metadata": {
    "id": "Ws8An0ODgjY-"
   },
   "source": [
    " \n",
    "**[Source of data](https://www.kaggle.com/datasets/fedesoriano/heart-failure-prediction)**\n",
    "\n",
    "Cardiovascular diseases (CVDs) are the number 1 cause of death globally, taking an estimated 17.9 million lives each year, which accounts for 31% of all deaths worldwide. Four out of 5CVD deaths are due to heart attacks and strokes, and one-third of these deaths occur prematurely in people under 70 years of age. Heart failure is a common event caused by CVDs and this dataset contains 11 features that can be used to predict a possible heart disease."
   ]
  },
  {
   "cell_type": "markdown",
   "metadata": {
    "id": "gQUO7kcjFz0m"
   },
   "source": [
    "**Attribute Information**\n",
    "\n",
    "* Age: age of the patient [years]\n",
    "Sex: sex of the patient [M: Male, F: Female]\n",
    "* ChestPainType: chest pain type [TA: Typical Angina, ATA: Atypical Angina, NAP: Non-Anginal Pain, ASY: Asymptomatic]\n",
    "* RestingBP: resting blood pressure [mm Hg]\n",
    "* Cholesterol: serum cholesterol [mm/dl]\n",
    "* FastingBS: fasting blood sugar [1: if FastingBS > 120 mg/dl, 0: otherwise]\n",
    "* RestingECG: resting electrocardiogram results [Normal: Normal, ST: having ST-T wave abnormality (T wave inversions and/or ST elevation or depression of > 0.05 mV), LVH: showing probable or definite left ventricular hypertrophy by Estes' criteria]\n",
    "* MaxHR: maximum heart rate achieved [Numeric value between 60 and 202]\n",
    "* ExerciseAngina: exercise-induced angina [Y: Yes, N: No]\n",
    "* Oldpeak: oldpeak = ST [Numeric value measured in depression]\n",
    "* ST_Slope: the slope of the peak exercise ST segment [Up: upsloping, Flat: flat, Down: downsloping]\n",
    "* HeartDisease: output class [1: heart disease, 0: Normal]"
   ]
  },
  {
   "cell_type": "code",
   "execution_count": 6,
   "metadata": {
    "id": "74424472"
   },
   "outputs": [],
   "source": [
    "#import necessary libraries\n",
    "import numpy as np\n",
    "import pandas as pd\n",
    "import matplotlib.pyplot as plt\n",
    "import seaborn as sb\n",
    "from scipy import stats\n",
    "from time import time\n",
    "%matplotlib inline"
   ]
  },
  {
   "cell_type": "code",
   "execution_count": 8,
   "metadata": {
    "colab": {
     "base_uri": "https://localhost:8080/",
     "height": 270
    },
    "id": "d691613d",
    "outputId": "23abab7f-63d0-49ff-cd28-370fbd8bafce"
   },
   "outputs": [
    {
     "data": {
      "text/html": [
       "<div>\n",
       "<style scoped>\n",
       "    .dataframe tbody tr th:only-of-type {\n",
       "        vertical-align: middle;\n",
       "    }\n",
       "\n",
       "    .dataframe tbody tr th {\n",
       "        vertical-align: top;\n",
       "    }\n",
       "\n",
       "    .dataframe thead th {\n",
       "        text-align: right;\n",
       "    }\n",
       "</style>\n",
       "<table border=\"1\" class=\"dataframe\">\n",
       "  <thead>\n",
       "    <tr style=\"text-align: right;\">\n",
       "      <th></th>\n",
       "      <th>Age</th>\n",
       "      <th>Sex</th>\n",
       "      <th>ChestPainType</th>\n",
       "      <th>RestingBP</th>\n",
       "      <th>Cholesterol</th>\n",
       "      <th>FastingBS</th>\n",
       "      <th>RestingECG</th>\n",
       "      <th>MaxHR</th>\n",
       "      <th>ExerciseAngina</th>\n",
       "      <th>Oldpeak</th>\n",
       "      <th>ST_Slope</th>\n",
       "      <th>HeartDisease</th>\n",
       "    </tr>\n",
       "  </thead>\n",
       "  <tbody>\n",
       "    <tr>\n",
       "      <th>0</th>\n",
       "      <td>40</td>\n",
       "      <td>M</td>\n",
       "      <td>ATA</td>\n",
       "      <td>140</td>\n",
       "      <td>289</td>\n",
       "      <td>0</td>\n",
       "      <td>Normal</td>\n",
       "      <td>172</td>\n",
       "      <td>N</td>\n",
       "      <td>0.0</td>\n",
       "      <td>Up</td>\n",
       "      <td>0</td>\n",
       "    </tr>\n",
       "    <tr>\n",
       "      <th>1</th>\n",
       "      <td>49</td>\n",
       "      <td>F</td>\n",
       "      <td>NAP</td>\n",
       "      <td>160</td>\n",
       "      <td>180</td>\n",
       "      <td>0</td>\n",
       "      <td>Normal</td>\n",
       "      <td>156</td>\n",
       "      <td>N</td>\n",
       "      <td>1.0</td>\n",
       "      <td>Flat</td>\n",
       "      <td>1</td>\n",
       "    </tr>\n",
       "    <tr>\n",
       "      <th>2</th>\n",
       "      <td>37</td>\n",
       "      <td>M</td>\n",
       "      <td>ATA</td>\n",
       "      <td>130</td>\n",
       "      <td>283</td>\n",
       "      <td>0</td>\n",
       "      <td>ST</td>\n",
       "      <td>98</td>\n",
       "      <td>N</td>\n",
       "      <td>0.0</td>\n",
       "      <td>Up</td>\n",
       "      <td>0</td>\n",
       "    </tr>\n",
       "    <tr>\n",
       "      <th>3</th>\n",
       "      <td>48</td>\n",
       "      <td>F</td>\n",
       "      <td>ASY</td>\n",
       "      <td>138</td>\n",
       "      <td>214</td>\n",
       "      <td>0</td>\n",
       "      <td>Normal</td>\n",
       "      <td>108</td>\n",
       "      <td>Y</td>\n",
       "      <td>1.5</td>\n",
       "      <td>Flat</td>\n",
       "      <td>1</td>\n",
       "    </tr>\n",
       "    <tr>\n",
       "      <th>4</th>\n",
       "      <td>54</td>\n",
       "      <td>M</td>\n",
       "      <td>NAP</td>\n",
       "      <td>150</td>\n",
       "      <td>195</td>\n",
       "      <td>0</td>\n",
       "      <td>Normal</td>\n",
       "      <td>122</td>\n",
       "      <td>N</td>\n",
       "      <td>0.0</td>\n",
       "      <td>Up</td>\n",
       "      <td>0</td>\n",
       "    </tr>\n",
       "  </tbody>\n",
       "</table>\n",
       "</div>"
      ],
      "text/plain": [
       "   Age Sex ChestPainType  RestingBP  Cholesterol  FastingBS RestingECG  MaxHR  \\\n",
       "0   40   M           ATA        140          289          0     Normal    172   \n",
       "1   49   F           NAP        160          180          0     Normal    156   \n",
       "2   37   M           ATA        130          283          0         ST     98   \n",
       "3   48   F           ASY        138          214          0     Normal    108   \n",
       "4   54   M           NAP        150          195          0     Normal    122   \n",
       "\n",
       "  ExerciseAngina  Oldpeak ST_Slope  HeartDisease  \n",
       "0              N      0.0       Up             0  \n",
       "1              N      1.0     Flat             1  \n",
       "2              N      0.0       Up             0  \n",
       "3              Y      1.5     Flat             1  \n",
       "4              N      0.0       Up             0  "
      ]
     },
     "execution_count": 8,
     "metadata": {},
     "output_type": "execute_result"
    }
   ],
   "source": [
    "#Load in the data\n",
    "#url = \"https://raw.githubusercontent.com/bopola/Tech4Dev_Bella/main/heart.csv\"\n",
    "heart = pd.read_csv(\"heart.csv\")\n",
    "heart.head()"
   ]
  },
  {
   "cell_type": "markdown",
   "metadata": {
    "id": "6f2cce19"
   },
   "source": [
    "## Exploratory Data Analysis (EDA)"
   ]
  },
  {
   "cell_type": "code",
   "execution_count": 9,
   "metadata": {
    "colab": {
     "base_uri": "https://localhost:8080/"
    },
    "id": "0ccf5d82",
    "outputId": "e13d62d9-8a04-4296-d511-144f3d16a09a"
   },
   "outputs": [
    {
     "data": {
      "text/plain": [
       "(918, 12)"
      ]
     },
     "execution_count": 9,
     "metadata": {},
     "output_type": "execute_result"
    }
   ],
   "source": [
    "heart.shape"
   ]
  },
  {
   "cell_type": "code",
   "execution_count": null,
   "metadata": {
    "colab": {
     "base_uri": "https://localhost:8080/"
    },
    "id": "340fea40",
    "outputId": "4c2c81ec-2711-4776-e23b-7571da847e7b"
   },
   "outputs": [
    {
     "name": "stdout",
     "output_type": "stream",
     "text": [
      "<class 'pandas.core.frame.DataFrame'>\n",
      "RangeIndex: 918 entries, 0 to 917\n",
      "Data columns (total 12 columns):\n",
      " #   Column          Non-Null Count  Dtype  \n",
      "---  ------          --------------  -----  \n",
      " 0   Age             918 non-null    int64  \n",
      " 1   Sex             918 non-null    object \n",
      " 2   ChestPainType   918 non-null    object \n",
      " 3   RestingBP       918 non-null    int64  \n",
      " 4   Cholesterol     918 non-null    int64  \n",
      " 5   FastingBS       918 non-null    int64  \n",
      " 6   RestingECG      918 non-null    object \n",
      " 7   MaxHR           918 non-null    int64  \n",
      " 8   ExerciseAngina  918 non-null    object \n",
      " 9   Oldpeak         918 non-null    float64\n",
      " 10  ST_Slope        918 non-null    object \n",
      " 11  HeartDisease    918 non-null    int64  \n",
      "dtypes: float64(1), int64(6), object(5)\n",
      "memory usage: 86.2+ KB\n"
     ]
    }
   ],
   "source": [
    "heart.info()"
   ]
  },
  {
   "cell_type": "code",
   "execution_count": null,
   "metadata": {
    "colab": {
     "base_uri": "https://localhost:8080/"
    },
    "id": "a9a6283b",
    "outputId": "fd9c4ad2-53d0-4098-c7ae-ac8ca928c701"
   },
   "outputs": [
    {
     "data": {
      "text/plain": [
       "Age               0\n",
       "Sex               0\n",
       "ChestPainType     0\n",
       "RestingBP         0\n",
       "Cholesterol       0\n",
       "FastingBS         0\n",
       "RestingECG        0\n",
       "MaxHR             0\n",
       "ExerciseAngina    0\n",
       "Oldpeak           0\n",
       "ST_Slope          0\n",
       "HeartDisease      0\n",
       "dtype: int64"
      ]
     },
     "execution_count": 6,
     "metadata": {},
     "output_type": "execute_result"
    }
   ],
   "source": [
    "#check for null values\n",
    "heart.isna().sum()"
   ]
  },
  {
   "cell_type": "markdown",
   "metadata": {
    "id": "3449b162"
   },
   "source": [
    "There are no missing data in this dataset"
   ]
  },
  {
   "cell_type": "code",
   "execution_count": 10,
   "metadata": {
    "colab": {
     "base_uri": "https://localhost:8080/",
     "height": 300
    },
    "id": "f97793ea",
    "outputId": "1058863b-17b5-4e93-a179-3b714efd60ff"
   },
   "outputs": [
    {
     "data": {
      "text/html": [
       "<div>\n",
       "<style scoped>\n",
       "    .dataframe tbody tr th:only-of-type {\n",
       "        vertical-align: middle;\n",
       "    }\n",
       "\n",
       "    .dataframe tbody tr th {\n",
       "        vertical-align: top;\n",
       "    }\n",
       "\n",
       "    .dataframe thead th {\n",
       "        text-align: right;\n",
       "    }\n",
       "</style>\n",
       "<table border=\"1\" class=\"dataframe\">\n",
       "  <thead>\n",
       "    <tr style=\"text-align: right;\">\n",
       "      <th></th>\n",
       "      <th>Age</th>\n",
       "      <th>RestingBP</th>\n",
       "      <th>Cholesterol</th>\n",
       "      <th>FastingBS</th>\n",
       "      <th>MaxHR</th>\n",
       "      <th>Oldpeak</th>\n",
       "      <th>HeartDisease</th>\n",
       "    </tr>\n",
       "  </thead>\n",
       "  <tbody>\n",
       "    <tr>\n",
       "      <th>count</th>\n",
       "      <td>918.000000</td>\n",
       "      <td>918.000000</td>\n",
       "      <td>918.000000</td>\n",
       "      <td>918.000000</td>\n",
       "      <td>918.000000</td>\n",
       "      <td>918.000000</td>\n",
       "      <td>918.000000</td>\n",
       "    </tr>\n",
       "    <tr>\n",
       "      <th>mean</th>\n",
       "      <td>53.510893</td>\n",
       "      <td>132.396514</td>\n",
       "      <td>198.799564</td>\n",
       "      <td>0.233115</td>\n",
       "      <td>136.809368</td>\n",
       "      <td>0.887364</td>\n",
       "      <td>0.553377</td>\n",
       "    </tr>\n",
       "    <tr>\n",
       "      <th>std</th>\n",
       "      <td>9.432617</td>\n",
       "      <td>18.514154</td>\n",
       "      <td>109.384145</td>\n",
       "      <td>0.423046</td>\n",
       "      <td>25.460334</td>\n",
       "      <td>1.066570</td>\n",
       "      <td>0.497414</td>\n",
       "    </tr>\n",
       "    <tr>\n",
       "      <th>min</th>\n",
       "      <td>28.000000</td>\n",
       "      <td>0.000000</td>\n",
       "      <td>0.000000</td>\n",
       "      <td>0.000000</td>\n",
       "      <td>60.000000</td>\n",
       "      <td>-2.600000</td>\n",
       "      <td>0.000000</td>\n",
       "    </tr>\n",
       "    <tr>\n",
       "      <th>25%</th>\n",
       "      <td>47.000000</td>\n",
       "      <td>120.000000</td>\n",
       "      <td>173.250000</td>\n",
       "      <td>0.000000</td>\n",
       "      <td>120.000000</td>\n",
       "      <td>0.000000</td>\n",
       "      <td>0.000000</td>\n",
       "    </tr>\n",
       "    <tr>\n",
       "      <th>50%</th>\n",
       "      <td>54.000000</td>\n",
       "      <td>130.000000</td>\n",
       "      <td>223.000000</td>\n",
       "      <td>0.000000</td>\n",
       "      <td>138.000000</td>\n",
       "      <td>0.600000</td>\n",
       "      <td>1.000000</td>\n",
       "    </tr>\n",
       "    <tr>\n",
       "      <th>75%</th>\n",
       "      <td>60.000000</td>\n",
       "      <td>140.000000</td>\n",
       "      <td>267.000000</td>\n",
       "      <td>0.000000</td>\n",
       "      <td>156.000000</td>\n",
       "      <td>1.500000</td>\n",
       "      <td>1.000000</td>\n",
       "    </tr>\n",
       "    <tr>\n",
       "      <th>max</th>\n",
       "      <td>77.000000</td>\n",
       "      <td>200.000000</td>\n",
       "      <td>603.000000</td>\n",
       "      <td>1.000000</td>\n",
       "      <td>202.000000</td>\n",
       "      <td>6.200000</td>\n",
       "      <td>1.000000</td>\n",
       "    </tr>\n",
       "  </tbody>\n",
       "</table>\n",
       "</div>"
      ],
      "text/plain": [
       "              Age   RestingBP  Cholesterol   FastingBS       MaxHR  \\\n",
       "count  918.000000  918.000000   918.000000  918.000000  918.000000   \n",
       "mean    53.510893  132.396514   198.799564    0.233115  136.809368   \n",
       "std      9.432617   18.514154   109.384145    0.423046   25.460334   \n",
       "min     28.000000    0.000000     0.000000    0.000000   60.000000   \n",
       "25%     47.000000  120.000000   173.250000    0.000000  120.000000   \n",
       "50%     54.000000  130.000000   223.000000    0.000000  138.000000   \n",
       "75%     60.000000  140.000000   267.000000    0.000000  156.000000   \n",
       "max     77.000000  200.000000   603.000000    1.000000  202.000000   \n",
       "\n",
       "          Oldpeak  HeartDisease  \n",
       "count  918.000000    918.000000  \n",
       "mean     0.887364      0.553377  \n",
       "std      1.066570      0.497414  \n",
       "min     -2.600000      0.000000  \n",
       "25%      0.000000      0.000000  \n",
       "50%      0.600000      1.000000  \n",
       "75%      1.500000      1.000000  \n",
       "max      6.200000      1.000000  "
      ]
     },
     "execution_count": 10,
     "metadata": {},
     "output_type": "execute_result"
    }
   ],
   "source": [
    "#statistical summary of the dataset\n",
    "heart.describe()"
   ]
  },
  {
   "cell_type": "markdown",
   "metadata": {
    "id": "9xzBgAe8TRO9"
   },
   "source": [
    "A wide range of ages is represented, with 53 being the mean, 28 being the lowest and 77 the highest.\n",
    "\n",
    "Individuals typically have a blood pressure of 130, with a maximum reading of around 200.\n",
    "\n",
    "\n",
    "Cholesterol ranges from 109 at the low end to 603 at the high end.\n",
    "\n",
    "The max of FastingBS is 1.\n",
    "\n",
    "MaxHR ranges from 202 at its peak to 195 at its lowest.\n",
    "Oldpeak's highest point is 6.2%.\n",
    "\n",
    "The maximum value for HeartDisease is 1."
   ]
  },
  {
   "cell_type": "markdown",
   "metadata": {},
   "source": [
    "## Brief personal analysis before the main one\n",
    "\n",
    " Soo, firstly out of curoiusity, i want to know if heart failure tend to occur more in men or wamen, and what the ratio is"
   ]
  },
  {
   "cell_type": "code",
   "execution_count": 15,
   "metadata": {},
   "outputs": [
    {
     "data": {
      "text/html": [
       "<div>\n",
       "<style scoped>\n",
       "    .dataframe tbody tr th:only-of-type {\n",
       "        vertical-align: middle;\n",
       "    }\n",
       "\n",
       "    .dataframe tbody tr th {\n",
       "        vertical-align: top;\n",
       "    }\n",
       "\n",
       "    .dataframe thead th {\n",
       "        text-align: right;\n",
       "    }\n",
       "</style>\n",
       "<table border=\"1\" class=\"dataframe\">\n",
       "  <thead>\n",
       "    <tr style=\"text-align: right;\">\n",
       "      <th></th>\n",
       "      <th>Age</th>\n",
       "      <th>Sex</th>\n",
       "      <th>ChestPainType</th>\n",
       "      <th>RestingBP</th>\n",
       "      <th>Cholesterol</th>\n",
       "      <th>FastingBS</th>\n",
       "      <th>RestingECG</th>\n",
       "      <th>MaxHR</th>\n",
       "      <th>ExerciseAngina</th>\n",
       "      <th>Oldpeak</th>\n",
       "      <th>ST_Slope</th>\n",
       "      <th>HeartDisease</th>\n",
       "    </tr>\n",
       "  </thead>\n",
       "  <tbody>\n",
       "    <tr>\n",
       "      <th>1</th>\n",
       "      <td>49</td>\n",
       "      <td>F</td>\n",
       "      <td>NAP</td>\n",
       "      <td>160</td>\n",
       "      <td>180</td>\n",
       "      <td>0</td>\n",
       "      <td>Normal</td>\n",
       "      <td>156</td>\n",
       "      <td>N</td>\n",
       "      <td>1.0</td>\n",
       "      <td>Flat</td>\n",
       "      <td>1</td>\n",
       "    </tr>\n",
       "    <tr>\n",
       "      <th>3</th>\n",
       "      <td>48</td>\n",
       "      <td>F</td>\n",
       "      <td>ASY</td>\n",
       "      <td>138</td>\n",
       "      <td>214</td>\n",
       "      <td>0</td>\n",
       "      <td>Normal</td>\n",
       "      <td>108</td>\n",
       "      <td>Y</td>\n",
       "      <td>1.5</td>\n",
       "      <td>Flat</td>\n",
       "      <td>1</td>\n",
       "    </tr>\n",
       "    <tr>\n",
       "      <th>8</th>\n",
       "      <td>37</td>\n",
       "      <td>M</td>\n",
       "      <td>ASY</td>\n",
       "      <td>140</td>\n",
       "      <td>207</td>\n",
       "      <td>0</td>\n",
       "      <td>Normal</td>\n",
       "      <td>130</td>\n",
       "      <td>Y</td>\n",
       "      <td>1.5</td>\n",
       "      <td>Flat</td>\n",
       "      <td>1</td>\n",
       "    </tr>\n",
       "    <tr>\n",
       "      <th>11</th>\n",
       "      <td>58</td>\n",
       "      <td>M</td>\n",
       "      <td>ATA</td>\n",
       "      <td>136</td>\n",
       "      <td>164</td>\n",
       "      <td>0</td>\n",
       "      <td>ST</td>\n",
       "      <td>99</td>\n",
       "      <td>Y</td>\n",
       "      <td>2.0</td>\n",
       "      <td>Flat</td>\n",
       "      <td>1</td>\n",
       "    </tr>\n",
       "    <tr>\n",
       "      <th>13</th>\n",
       "      <td>49</td>\n",
       "      <td>M</td>\n",
       "      <td>ASY</td>\n",
       "      <td>140</td>\n",
       "      <td>234</td>\n",
       "      <td>0</td>\n",
       "      <td>Normal</td>\n",
       "      <td>140</td>\n",
       "      <td>Y</td>\n",
       "      <td>1.0</td>\n",
       "      <td>Flat</td>\n",
       "      <td>1</td>\n",
       "    </tr>\n",
       "  </tbody>\n",
       "</table>\n",
       "</div>"
      ],
      "text/plain": [
       "    Age Sex ChestPainType  RestingBP  Cholesterol  FastingBS RestingECG  \\\n",
       "1    49   F           NAP        160          180          0     Normal   \n",
       "3    48   F           ASY        138          214          0     Normal   \n",
       "8    37   M           ASY        140          207          0     Normal   \n",
       "11   58   M           ATA        136          164          0         ST   \n",
       "13   49   M           ASY        140          234          0     Normal   \n",
       "\n",
       "    MaxHR ExerciseAngina  Oldpeak ST_Slope  HeartDisease  \n",
       "1     156              N      1.0     Flat             1  \n",
       "3     108              Y      1.5     Flat             1  \n",
       "8     130              Y      1.5     Flat             1  \n",
       "11     99              Y      2.0     Flat             1  \n",
       "13    140              Y      1.0     Flat             1  "
      ]
     },
     "execution_count": 15,
     "metadata": {},
     "output_type": "execute_result"
    }
   ],
   "source": [
    "heart_failure=heart[heart[\"HeartDisease\"]==1]\n",
    "heart_failure.head()"
   ]
  },
  {
   "cell_type": "code",
   "execution_count": 25,
   "metadata": {},
   "outputs": [
    {
     "data": {
      "text/plain": [
       "Age               508\n",
       "Sex               508\n",
       "ChestPainType     508\n",
       "RestingBP         508\n",
       "Cholesterol       508\n",
       "FastingBS         508\n",
       "RestingECG        508\n",
       "MaxHR             508\n",
       "ExerciseAngina    508\n",
       "Oldpeak           508\n",
       "ST_Slope          508\n",
       "HeartDisease      508\n",
       "dtype: int64"
      ]
     },
     "execution_count": 25,
     "metadata": {},
     "output_type": "execute_result"
    }
   ],
   "source": [
    "heart_failure.count()"
   ]
  },
  {
   "cell_type": "code",
   "execution_count": 27,
   "metadata": {},
   "outputs": [
    {
     "data": {
      "text/plain": [
       "<matplotlib.axes._subplots.AxesSubplot at 0x1191279c358>"
      ]
     },
     "execution_count": 27,
     "metadata": {},
     "output_type": "execute_result"
    },
    {
     "data": {
      "image/png": "[encoded data removed]",
      "text/plain": [
       "<Figure size 432x288 with 1 Axes>"
      ]
     },
     "metadata": {
      "needs_background": "light"
     },
     "output_type": "display_data"
    }
   ],
   "source": [
    "# heart_men=heart_failure[heart_failure[\"Sex\"]==\"M\"]\n",
    "# heart_women=heart_failure[heart_failure[\"Sex\"]==\"F\"]\n",
    "\n",
    "\n",
    "#visualizing\n",
    "\n",
    "sb.countplot(x=heart_failure.Sex)\n",
    "\n"
   ]
  },
  {
   "cell_type": "markdown",
   "metadata": {},
   "source": [
    "soo, from our analysis, we can see that men are more at risk of having a heart failure than women, in a ratio of 10:1\n",
    "\n",
    "My next question is, does the cholesterol level of a person have a significant role to play in determining if they would suffer a heart disease or not.\n",
    "\n",
    "To answer this. i would first want to know what the average cholesterol level of a person is, and Google says its average at abougt 200 and high at about 240."
   ]
  },
  {
   "cell_type": "code",
   "execution_count": 31,
   "metadata": {},
   "outputs": [
    {
     "data": {
      "text/plain": [
       "Age               191\n",
       "Sex               191\n",
       "ChestPainType     191\n",
       "RestingBP         191\n",
       "Cholesterol       191\n",
       "FastingBS         191\n",
       "RestingECG        191\n",
       "MaxHR             191\n",
       "ExerciseAngina    191\n",
       "Oldpeak           191\n",
       "ST_Slope          191\n",
       "HeartDisease      191\n",
       "dtype: int64"
      ]
     },
     "execution_count": 31,
     "metadata": {},
     "output_type": "execute_result"
    }
   ],
   "source": [
    "c=heart_failure[heart_failure[\"Cholesterol\"]>=240].count()\n",
    "c\n",
    "\n",
    "#sb.countplot(x=heart_failure.Cholesterol)\n"
   ]
  },
  {
   "cell_type": "code",
   "execution_count": null,
   "metadata": {},
   "outputs": [],
   "source": []
  },
  {
   "cell_type": "code",
   "execution_count": null,
   "metadata": {},
   "outputs": [],
   "source": []
  },
  {
   "cell_type": "markdown",
   "metadata": {
    "id": "a987467b"
   },
   "source": [
    "#### Univariate Analysis\n",
    "Observations on a single characteristics or attribute"
   ]
  },
  {
   "cell_type": "code",
   "execution_count": null,
   "metadata": {
    "colab": {
     "base_uri": "https://localhost:8080/",
     "height": 297
    },
    "id": "2b1a44c0-b319-4584-9b87-4ed417fd1a40",
    "outputId": "d8380cfe-a3e9-4996-946f-581feda7bbe6"
   },
   "outputs": [
    {
     "data": {
      "image/png": "[encoded data removed]",
      "text/plain": [
       "<Figure size 432x288 with 9 Axes>"
      ]
     },
     "metadata": {
      "needs_background": "light"
     },
     "output_type": "display_data"
    }
   ],
   "source": [
    "heart[['Age','RestingBP','Cholesterol','FastingBS','MaxHR','Oldpeak','HeartDisease']].hist()\n",
    "# df.hist(figsize=(12,10))\n",
    "plt.tight_layout()\n",
    "plt.show()"
   ]
  },
  {
   "cell_type": "markdown",
   "metadata": {
    "id": "ff5973fc"
   },
   "source": [
    "###### Age"
   ]
  },
  {
   "cell_type": "code",
   "execution_count": null,
   "metadata": {
    "id": "ac98fc5b"
   },
   "outputs": [],
   "source": [
    "sb.histplot(heart.Age, kde=True);"
   ]
  },
  {
   "cell_type": "markdown",
   "metadata": {
    "id": "0065d6a0"
   },
   "source": [
    "We see that age of individuals in this dataset is slighly skewed to the left with 55 being the peak age"
   ]
  },
  {
   "cell_type": "markdown",
   "metadata": {
    "id": "f4a52676"
   },
   "source": [
    "###### Sex"
   ]
  },
  {
   "cell_type": "code",
   "execution_count": null,
   "metadata": {
    "id": "ccd9125f"
   },
   "outputs": [],
   "source": [
    "total = heart.shape[0]\n",
    "ax = sb.countplot(x=heart.Sex)\n",
    "for p in ax.patches:\n",
    "    percentage = '{:.1f}%'.format(100 * p.get_height()/total)\n",
    "    x = p.get_x() + p.get_width() - 0.5\n",
    "    y = p.get_y() + p.get_height()\n",
    "    ax.annotate(percentage, (x, y));"
   ]
  },
  {
   "cell_type": "markdown",
   "metadata": {
    "id": "034412f3"
   },
   "source": [
    "We see 21% of our data is female, so we should expect a bias towards male"
   ]
  },
  {
   "cell_type": "markdown",
   "metadata": {
    "id": "64f767b2"
   },
   "source": [
    "###### Chest Pain Type"
   ]
  },
  {
   "cell_type": "code",
   "execution_count": null,
   "metadata": {
    "id": "736a1c3b"
   },
   "outputs": [],
   "source": [
    "heart.ChestPainType.value_counts().sort_values(ascending=False).index.to_list()"
   ]
  },
  {
   "cell_type": "code",
   "execution_count": null,
   "metadata": {
    "id": "2dc0eb8b",
    "scrolled": true
   },
   "outputs": [],
   "source": [
    "base_color = sb.color_palette()[0]\n",
    "sb.countplot(x=heart.ChestPainType, color=base_color, order=heart.ChestPainType.value_counts().sort_values(ascending=False).index.to_list());"
   ]
  },
  {
   "cell_type": "markdown",
   "metadata": {
    "id": "cf46e495"
   },
   "source": [
    "Angina is a type of chest pain caused by reduced blood flow to the heart  \n",
    "TA: Typical Angina  \n",
    "ATA: Atypical Angina  \n",
    "NAP: Non-Anginal Pain  \n",
    "ASY: Asymptomatic"
   ]
  },
  {
   "cell_type": "markdown",
   "metadata": {
    "id": "07efc19e"
   },
   "source": [
    "###### Resting BP and Cholesterol"
   ]
  },
  {
   "cell_type": "code",
   "execution_count": null,
   "metadata": {
    "id": "98a67c1d"
   },
   "outputs": [],
   "source": [
    "plt.figure(figsize=(8, 4))\n",
    "plt.subplot(1,2,1)\n",
    "sb.histplot(heart.RestingBP, kde=True)\n",
    "plt.ylabel(\"\")\n",
    "\n",
    "plt.subplot(1,2,2)\n",
    "sb.histplot(heart.Cholesterol, kde=True)\n",
    "plt.ylabel(\"\");"
   ]
  },
  {
   "cell_type": "markdown",
   "metadata": {
    "id": "4c43dfe4"
   },
   "source": [
    "BP: We have some very low values, lower than 75, however the values between 75 and 200 seem to follow a normal distribution. We can further explore for outliers.  \n",
    "Cholesterol: We see many values with 0 cholesterol, which is unusual"
   ]
  },
  {
   "cell_type": "code",
   "execution_count": null,
   "metadata": {
    "id": "9aee2b94"
   },
   "outputs": [],
   "source": [
    "plt.figure(figsize=(8, 4))\n",
    "plt.subplot(1,2,1)\n",
    "sb.boxplot(x=heart.RestingBP)\n",
    "plt.ylabel(\"\")\n",
    "\n",
    "plt.subplot(1,2,2)\n",
    "sb.boxplot(x=heart.Cholesterol)\n",
    "plt.ylabel(\"\");\n"
   ]
  },
  {
   "cell_type": "markdown",
   "metadata": {
    "id": "5008fa26"
   },
   "source": [
    "We see 2 outliers with resting bp below 80mmHg, and several with very high resting BPs above 170mmhg"
   ]
  },
  {
   "cell_type": "code",
   "execution_count": null,
   "metadata": {
    "id": "6fb4cc7d"
   },
   "outputs": [],
   "source": [
    "heart[heart.RestingBP < 90]"
   ]
  },
  {
   "cell_type": "markdown",
   "metadata": {
    "id": "7fef7fe1"
   },
   "source": [
    "Could there be an error in the entries? Having resting bp and/or cholesterol seems unusual  \n",
    "\n",
    "NB: FastingBS: fasting blood sugar [1: if FastingBS > 120 mg/dl, 0: otherwise]"
   ]
  },
  {
   "cell_type": "code",
   "execution_count": null,
   "metadata": {
    "id": "57bb9c76"
   },
   "outputs": [],
   "source": [
    "heart[heart.RestingBP > 170]"
   ]
  },
  {
   "cell_type": "code",
   "execution_count": null,
   "metadata": {
    "id": "f911aea1"
   },
   "outputs": [],
   "source": [
    "heart[(heart.RestingBP==0)|heart.Cholesterol==0]"
   ]
  },
  {
   "cell_type": "markdown",
   "metadata": {
    "id": "63182fa1"
   },
   "source": [
    "Many rows with weird cholestrol and/or resting bp"
   ]
  },
  {
   "cell_type": "markdown",
   "metadata": {
    "id": "19982d12"
   },
   "source": [
    "###### Fasting Blood Sugar\n"
   ]
  },
  {
   "cell_type": "code",
   "execution_count": null,
   "metadata": {
    "id": "b72954b5"
   },
   "outputs": [],
   "source": [
    "(172/918)*100"
   ]
  },
  {
   "cell_type": "code",
   "execution_count": null,
   "metadata": {
    "id": "33d21555"
   },
   "outputs": [],
   "source": [
    "ax=sb.countplot(x=heart.FastingBS)\n",
    "for p in ax.patches:\n",
    "    percentage = '{:.1f}%'.format(100 * p.get_height()/total)\n",
    "    x = p.get_x() + p.get_width() - 0.5\n",
    "    y = p.get_y() + p.get_height()\n",
    "    ax.annotate(percentage, (x, y));"
   ]
  },
  {
   "cell_type": "markdown",
   "metadata": {
    "id": "217c764f"
   },
   "source": [
    "23.3% of individuals had a fasting blood sugar > 120 mg/dl"
   ]
  },
  {
   "cell_type": "markdown",
   "metadata": {
    "id": "05e296d8"
   },
   "source": [
    "###### Maximum Heart Rate"
   ]
  },
  {
   "cell_type": "code",
   "execution_count": null,
   "metadata": {
    "id": "3c0636ab"
   },
   "outputs": [],
   "source": [
    "sb.histplot(heart.MaxHR, kde=True);"
   ]
  },
  {
   "cell_type": "markdown",
   "metadata": {
    "id": "09f80927"
   },
   "source": [
    "###### Old Peak"
   ]
  },
  {
   "cell_type": "code",
   "execution_count": null,
   "metadata": {
    "id": "612d4eb0"
   },
   "outputs": [],
   "source": [
    "sb.histplot(heart.Oldpeak, kde=True);"
   ]
  },
  {
   "cell_type": "markdown",
   "metadata": {
    "id": "4ad47a9e"
   },
   "source": [
    "##### Resting ECG"
   ]
  },
  {
   "cell_type": "code",
   "execution_count": null,
   "metadata": {
    "id": "0a38741d"
   },
   "outputs": [],
   "source": [
    "sb.countplot(x=heart.RestingECG, color=base_color, order=heart.RestingECG.value_counts().sort_values(ascending=False).index.to_list());"
   ]
  },
  {
   "cell_type": "markdown",
   "metadata": {
    "id": "8d75d4d7"
   },
   "source": [
    "Normal: Normal  \n",
    "ST: having ST-T wave abnormality (T wave inversions and/or ST elevation or depression of > 0.05 mV)  \n",
    "LVH: showing probable or definite left ventricular hypertrophy by Estes' criteria"
   ]
  },
  {
   "cell_type": "markdown",
   "metadata": {
    "id": "3560b587"
   },
   "source": [
    "##### Excercise Angina"
   ]
  },
  {
   "cell_type": "code",
   "execution_count": 23,
   "metadata": {
    "id": "f3a322a6"
   },
   "outputs": [
    {
     "data": {
      "image/png": "[encoded data removed]",
      "text/plain": [
       "<Figure size 432x288 with 1 Axes>"
      ]
     },
     "metadata": {
      "needs_background": "light"
     },
     "output_type": "display_data"
    }
   ],
   "source": [
    "sb.countplot(x=heart.ExerciseAngina);"
   ]
  },
  {
   "cell_type": "markdown",
   "metadata": {
    "id": "8a1d28de"
   },
   "source": [
    "##### ST Slope"
   ]
  },
  {
   "cell_type": "code",
   "execution_count": null,
   "metadata": {
    "id": "e6d0f2c9"
   },
   "outputs": [],
   "source": [
    "sb.countplot(x=heart.ST_Slope);"
   ]
  },
  {
   "cell_type": "markdown",
   "metadata": {
    "id": "04e90933"
   },
   "source": [
    "##### Heart Disease"
   ]
  },
  {
   "cell_type": "code",
   "execution_count": null,
   "metadata": {
    "id": "45f4bb2b"
   },
   "outputs": [],
   "source": [
    "sb.countplot(x=heart.HeartDisease);"
   ]
  },
  {
   "cell_type": "markdown",
   "metadata": {
    "id": "f5bd5769"
   },
   "source": [
    "#### Bivariate Analysis"
   ]
  },
  {
   "cell_type": "code",
   "execution_count": null,
   "metadata": {
    "colab": {
     "base_uri": "https://localhost:8080/"
    },
    "id": "419679d6",
    "outputId": "6f834b84-776e-4e9f-d75a-9f91c6b3dab2"
   },
   "outputs": [
    {
     "data": {
      "text/plain": [
       "Index(['Age', 'Sex', 'ChestPainType', 'RestingBP', 'Cholesterol', 'FastingBS',\n",
       "       'RestingECG', 'MaxHR', 'ExerciseAngina', 'Oldpeak', 'ST_Slope',\n",
       "       'HeartDisease'],\n",
       "      dtype='object')"
      ]
     },
     "execution_count": 8,
     "metadata": {},
     "output_type": "execute_result"
    }
   ],
   "source": [
    "heart.columns"
   ]
  },
  {
   "cell_type": "markdown",
   "metadata": {
    "id": "2KWYdeahWlwf"
   },
   "source": [
    "##### Correlation"
   ]
  },
  {
   "cell_type": "code",
   "execution_count": null,
   "metadata": {
    "colab": {
     "base_uri": "https://localhost:8080/",
     "height": 344
    },
    "id": "38c4863d",
    "outputId": "c38e3605-8c1f-4555-89d7-4f4bf0576e25"
   },
   "outputs": [
    {
     "data": {
      "text/plain": [
       "<matplotlib.axes._subplots.AxesSubplot at 0x7fd79fe04340>"
      ]
     },
     "execution_count": 9,
     "metadata": {},
     "output_type": "execute_result"
    },
    {
     "data": {
      "image/png": "[encoded data removed]",
      "text/plain": [
       "<Figure size 432x288 with 2 Axes>"
      ]
     },
     "metadata": {
      "needs_background": "light"
     },
     "output_type": "display_data"
    }
   ],
   "source": [
    "sb.heatmap(heart.corr(), annot=True)"
   ]
  },
  {
   "cell_type": "markdown",
   "metadata": {
    "id": "3e218f73"
   },
   "source": [
    "We notice very little correlation among the variables"
   ]
  },
  {
   "cell_type": "markdown",
   "metadata": {
    "id": "960d1770"
   },
   "source": [
    "##### Age and Heart Disease"
   ]
  },
  {
   "cell_type": "code",
   "execution_count": null,
   "metadata": {
    "colab": {
     "base_uri": "https://localhost:8080/",
     "height": 596
    },
    "id": "489b8457",
    "outputId": "afb8cfd0-44c1-43f4-90e3-442114b470f1"
   },
   "outputs": [
    {
     "ename": "NameError",
     "evalue": "ignored",
     "output_type": "error",
     "traceback": [
      "\u001b[0;31m---------------------------------------------------------------------------\u001b[0m",
      "\u001b[0;31mNameError\u001b[0m                                 Traceback (most recent call last)",
      "\u001b[0;32m<ipython-input-10-1c79c438c2c3>\u001b[0m in \u001b[0;36m<module>\u001b[0;34m\u001b[0m\n\u001b[1;32m      1\u001b[0m \u001b[0mplt\u001b[0m\u001b[0;34m.\u001b[0m\u001b[0mfigure\u001b[0m\u001b[0;34m(\u001b[0m\u001b[0mfigsize\u001b[0m\u001b[0;34m=\u001b[0m\u001b[0;34m(\u001b[0m\u001b[0;36m12\u001b[0m\u001b[0;34m,\u001b[0m\u001b[0;36m6\u001b[0m\u001b[0;34m)\u001b[0m\u001b[0;34m)\u001b[0m\u001b[0;34m\u001b[0m\u001b[0;34m\u001b[0m\u001b[0m\n\u001b[1;32m      2\u001b[0m \u001b[0mplt\u001b[0m\u001b[0;34m.\u001b[0m\u001b[0msubplot\u001b[0m\u001b[0;34m(\u001b[0m\u001b[0;36m1\u001b[0m\u001b[0;34m,\u001b[0m\u001b[0;36m2\u001b[0m\u001b[0;34m,\u001b[0m\u001b[0;36m1\u001b[0m\u001b[0;34m)\u001b[0m\u001b[0;34m\u001b[0m\u001b[0;34m\u001b[0m\u001b[0m\n\u001b[0;32m----> 3\u001b[0;31m \u001b[0msb\u001b[0m\u001b[0;34m.\u001b[0m\u001b[0mviolinplot\u001b[0m\u001b[0;34m(\u001b[0m\u001b[0mdata\u001b[0m\u001b[0;34m=\u001b[0m\u001b[0mheart\u001b[0m\u001b[0;34m,\u001b[0m \u001b[0mx\u001b[0m\u001b[0;34m=\u001b[0m\u001b[0;34m\"HeartDisease\"\u001b[0m\u001b[0;34m,\u001b[0m \u001b[0my\u001b[0m\u001b[0;34m=\u001b[0m\u001b[0;34m\"Age\"\u001b[0m\u001b[0;34m,\u001b[0m \u001b[0mcolor\u001b[0m\u001b[0;34m=\u001b[0m\u001b[0mbase_color\u001b[0m\u001b[0;34m)\u001b[0m\u001b[0;34m\u001b[0m\u001b[0;34m\u001b[0m\u001b[0m\n\u001b[0m\u001b[1;32m      4\u001b[0m \u001b[0;34m\u001b[0m\u001b[0m\n\u001b[1;32m      5\u001b[0m \u001b[0mplt\u001b[0m\u001b[0;34m.\u001b[0m\u001b[0msubplot\u001b[0m\u001b[0;34m(\u001b[0m\u001b[0;36m1\u001b[0m\u001b[0;34m,\u001b[0m\u001b[0;36m2\u001b[0m\u001b[0;34m,\u001b[0m\u001b[0;36m2\u001b[0m\u001b[0;34m)\u001b[0m\u001b[0;34m\u001b[0m\u001b[0;34m\u001b[0m\u001b[0m\n",
      "\u001b[0;31mNameError\u001b[0m: name 'base_color' is not defined"
     ]
    },
    {
     "data": {
      "image/png": "[encoded data removed]",
      "text/plain": [
       "<Figure size 864x432 with 1 Axes>"
      ]
     },
     "metadata": {
      "needs_background": "light"
     },
     "output_type": "display_data"
    }
   ],
   "source": [
    "plt.figure(figsize=(12,6))\n",
    "plt.subplot(1,2,1)\n",
    "sb.violinplot(data=heart, x=\"HeartDisease\", y=\"Age\", color=base_color)\n",
    "\n",
    "plt.subplot(1,2,2)\n",
    "sb.violinplot(data=heart, x=\"ChestPainType\", y=\"Age\", color=base_color)\n"
   ]
  },
  {
   "cell_type": "markdown",
   "metadata": {
    "id": "a2f3c0c7"
   },
   "source": [
    "From the plot, we notice there are fewer young people, <40 years with heart disease than old people with most people with heart disease being above 50 years."
   ]
  },
  {
   "cell_type": "code",
   "execution_count": null,
   "metadata": {
    "id": "ae04acaf"
   },
   "outputs": [],
   "source": [
    "plt.figure(figsize=(12,6))\n",
    "plt.subplot(1,2,1)\n",
    "sb.violinplot(data=heart, x=\"ChestPainType\", y=\"RestingBP\", color=base_color)\n",
    "\n",
    "plt.subplot(1,2,2)\n",
    "sb.violinplot(data=heart, x=\"ChestPainType\", y=\"Cholesterol\", color=base_color)\n"
   ]
  },
  {
   "cell_type": "markdown",
   "metadata": {
    "id": "48b34769"
   },
   "source": [
    "The different classes of chest pain seem to have similar resting BPs, same with cholesterol"
   ]
  },
  {
   "cell_type": "code",
   "execution_count": null,
   "metadata": {
    "id": "6f8b1eaa"
   },
   "outputs": [],
   "source": [
    "plt.figure(figsize=(12,6))\n",
    "plt.subplot(1,2,1)\n",
    "sb.countplot(data=heart, hue= \"ChestPainType\", x=\"HeartDisease\", palette=\"Blues\");\n",
    "\n",
    "\n",
    "plt.subplot(1,2,2)\n",
    "sb.countplot(data=heart, x= \"ChestPainType\", hue=\"HeartDisease\", palette=\"Oranges\");\n",
    "\n",
    "\n"
   ]
  },
  {
   "cell_type": "markdown",
   "metadata": {
    "id": "08297c1e"
   },
   "source": [
    "TA: Typical Angina, ATA: Atypical Angina, NAP: Non-Anginal Pain, ASY: Asymptomatic]  \n",
    "\n",
    "We see that even people withput heart disease had some form of chest pain, most people with heart disease were asymptomatic. \n",
    "Generally, most people were asymptomatic, and a higher proportion of asymptomatic patients had heart disease, very few people had typical angina."
   ]
  },
  {
   "cell_type": "code",
   "execution_count": null,
   "metadata": {
    "id": "c425484a"
   },
   "outputs": [],
   "source": [
    "plt.figure(figsize=(12,6))\n",
    "plt.subplot(1,2,1)\n",
    "sb.countplot(data=heart, x= \"ChestPainType\", hue=\"ExerciseAngina\", palette=\"Blues\");\n",
    "\n",
    "\n",
    "plt.subplot(1,2,2)\n",
    "sb.countplot(data=heart, x= \"ExerciseAngina\", hue=\"HeartDisease\", palette=\"Oranges\");\n",
    "\n",
    "\n",
    "\n"
   ]
  },
  {
   "cell_type": "markdown",
   "metadata": {
    "id": "3f75e6c7"
   },
   "source": [
    "Also, a higher proportion of those that were asymptomatic had exercise induced angina. A small proportion of those without heart disease had exercise induced angina."
   ]
  },
  {
   "cell_type": "code",
   "execution_count": null,
   "metadata": {
    "id": "ea196c0d"
   },
   "outputs": [],
   "source": [
    "plt.figure(figsize=(12,6))\n",
    "plt.subplot(1,2,1)\n",
    "sb.countplot(data=heart, hue= \"ST_Slope\", x=\"HeartDisease\", palette=\"Blues\");\n",
    "\n",
    "\n",
    "plt.subplot(1,2,2)\n",
    "sb.countplot(data=heart, x= \"FastingBS\", hue=\"HeartDisease\", palette=\"Oranges\");\n",
    "\n",
    "\n"
   ]
  },
  {
   "cell_type": "markdown",
   "metadata": {
    "id": "5b47f0b6"
   },
   "source": [
    "A large proportionof patients with heart disease had  Flat ST Slope, and Up slope was most common among those without heart disease"
   ]
  },
  {
   "cell_type": "markdown",
   "metadata": {
    "id": "xdpY4en1lOpt"
   },
   "source": [
    "#### Clean the Data"
   ]
  },
  {
   "cell_type": "markdown",
   "metadata": {
    "id": "0Jh6sSrpZ_Qh"
   },
   "source": [
    "- Replaced 0 with ffill which gave a final mean that was closest to the mean when 0 values were present for the <font color = 'red'>'Cholesterol'</font> and <font color = 'red'>'RestingBP'</font> attributes.\n",
    "- No columns were dropped."
   ]
  },
  {
   "cell_type": "code",
   "execution_count": null,
   "metadata": {
    "id": "24d64f9b"
   },
   "outputs": [],
   "source": [
    "#replace 0 values with ffill\n",
    "heart['Cholesterol'].replace(to_replace = 0,  method='ffill', inplace=True)\n",
    "heart['Cholesterol'].value_counts()"
   ]
  },
  {
   "cell_type": "code",
   "execution_count": null,
   "metadata": {
    "id": "sIQcYmfPk2Uo"
   },
   "outputs": [],
   "source": [
    "##replace 0 values with ffill\n",
    "heart['RestingBP'].replace(to_replace = 0,  method='ffill', inplace=True)\n",
    "heart['RestingBP'].value_counts()"
   ]
  },
  {
   "cell_type": "code",
   "execution_count": null,
   "metadata": {
    "id": "ZPSH964RlkYX"
   },
   "outputs": [],
   "source": [
    "heart.info()"
   ]
  },
  {
   "cell_type": "code",
   "execution_count": null,
   "metadata": {
    "id": "ZwISpFkNloiR"
   },
   "outputs": [],
   "source": [
    "heart.head()"
   ]
  },
  {
   "cell_type": "markdown",
   "metadata": {
    "id": "eMyyOv9Zl20T"
   },
   "source": [
    "## Modelling and Prediction"
   ]
  },
  {
   "cell_type": "markdown",
   "metadata": {
    "id": "HW0neG4pnT5K"
   },
   "source": [
    "### Preprocessing\n",
    "X as the features\n",
    "\n",
    "y as the target"
   ]
  },
  {
   "cell_type": "code",
   "execution_count": null,
   "metadata": {
    "id": "57rqCEuGq-gv"
   },
   "outputs": [],
   "source": [
    "#import machine learning libraries\n",
    "from sklearn.preprocessing import LabelEncoder, OneHotEncoder\n",
    "from sklearn.linear_model import LinearRegression\n",
    "from sklearn.model_selection import train_test_split\n",
    "from sklearn.metrics import confusion_matrix, classification_report, plot_confusion_matrix"
   ]
  },
  {
   "cell_type": "code",
   "execution_count": null,
   "metadata": {
    "id": "VcDDpJvVmA9a"
   },
   "outputs": [],
   "source": [
    " X = heart.loc[:, ['Age','Sex','ChestPainType','RestingBP','Cholesterol','FastingBS','RestingECG','MaxHR','ExerciseAngina','Oldpeak','ST_Slope']]\n",
    " X.head()"
   ]
  },
  {
   "cell_type": "code",
   "execution_count": null,
   "metadata": {
    "id": "aAchT1T9raRj"
   },
   "outputs": [],
   "source": [
    "#convert categorical data to numeric\n",
    "le_Sex = LabelEncoder()\n",
    "le_ChestPainType = LabelEncoder()\n",
    "le_FastingBS = LabelEncoder()\n",
    "le_RestingECG = LabelEncoder()\n",
    "le_ExerciseAngina = LabelEncoder()\n",
    "le_ST_Slope = LabelEncoder()\n"
   ]
  },
  {
   "cell_type": "code",
   "execution_count": null,
   "metadata": {
    "id": "szGDw8Hmrq_7"
   },
   "outputs": [],
   "source": [
    "#use fit_transform\n",
    "X['Sex'] = le_Sex.fit_transform(X['Sex'])\n",
    "X['ChestPainType'] = le_ChestPainType.fit_transform(X['ChestPainType'])\n",
    "X['FastingBS'] = le_FastingBS.fit_transform(X['FastingBS'])\n",
    "X['RestingECG'] = le_RestingECG.fit_transform(X['RestingECG'])\n",
    "X['ExerciseAngina'] = le_ExerciseAngina.fit_transform(X['ExerciseAngina'])\n",
    "X['ST_Slope'] = le_ST_Slope.fit_transform(X['ST_Slope'])\n",
    "\n",
    "#convert float to int\n",
    "X['Oldpeak'] = X['Oldpeak'].astype('int')\n",
    "X.head()"
   ]
  },
  {
   "cell_type": "code",
   "execution_count": null,
   "metadata": {
    "id": "c2dacfcf-da56-40b4-8ee9-3b3048ba7440"
   },
   "outputs": [],
   "source": [
    "#run onehotencoder\n",
    "enc = OneHotEncoder(handle_unknown = 'ignore')\n",
    "enc_df = pd.DataFrame(enc.fit_transform(X[[\"Sex\", \"ChestPainType\", \"RestingECG\", \"ExerciseAngina\", \"ST_Slope\"]]).toarray())\n",
    "enc_df.columns = enc.get_feature_names_out(input_features=[\"Sex\", \"ChestPainType\", \"RestingECG\", \"ExerciseAngina\", \"ST_Slope\"])\n",
    "enc_df"
   ]
  },
  {
   "cell_type": "code",
   "execution_count": null,
   "metadata": {
    "id": "9cda095e-9a55-480d-9feb-ab002e0218f3"
   },
   "outputs": [],
   "source": [
    "X = X.join(enc_df)\n",
    "X"
   ]
  },
  {
   "cell_type": "code",
   "execution_count": null,
   "metadata": {
    "id": "fcf6cfe6-deef-46ec-8cde-0a0cb2064197"
   },
   "outputs": [],
   "source": [
    "feat_list = ['Sex','ChestPainType','RestingECG','ExerciseAngina','ST_Slope']\n",
    "X.drop(columns = feat_list, axis = 1, inplace =True)\n",
    "X.head()"
   ]
  },
  {
   "cell_type": "code",
   "execution_count": null,
   "metadata": {
    "id": "72e5591f-9e03-4d92-b88f-b8a6bb8dda02"
   },
   "outputs": [],
   "source": [
    "X.info()"
   ]
  },
  {
   "cell_type": "code",
   "execution_count": null,
   "metadata": {
    "id": "2c1a3711-467b-4e54-ba4d-90da05e01247"
   },
   "outputs": [],
   "source": [
    " y = heart.loc[:, ['HeartDisease']]\n",
    " y.info()"
   ]
  },
  {
   "cell_type": "markdown",
   "metadata": {
    "id": "d3aecf4c-7de7-4499-875a-0427f8f9c542"
   },
   "source": [
    "       "
   ]
  },
  {
   "cell_type": "markdown",
   "metadata": {
    "id": "ST4G_DsBMf6k",
    "tags": []
   },
   "source": [
    "### Train/Test/Split\n"
   ]
  },
  {
   "cell_type": "markdown",
   "metadata": {
    "id": "5817b508-739a-4aca-ab2f-ec9115f6196d"
   },
   "source": [
    "We will be using train/test split on our decision tree. Let's import train_test_split from sklearn.cross_validation."
   ]
  },
  {
   "cell_type": "markdown",
   "metadata": {
    "id": "79350ce2-b574-448b-ae2a-121fca0a10af"
   },
   "source": [
    "Now <b> train_test_split </b> will return 4 different parameters. We will name them:<br>\n",
    "X_trainset, X_testset, y_trainset, y_testset <br> <br>\n",
    "The <b> train_test_split </b> will need the parameters: <br>\n",
    "X, y, test_size=0.3, and random_state=3. <br> <br>\n",
    "The <b>X</b> and <b>y</b> are the arrays required before the split, the <b>test_size</b> represents the ratio of the testing dataset, and the <b>random_state</b> ensures that we obtain the same splits."
   ]
  },
  {
   "cell_type": "code",
   "execution_count": null,
   "metadata": {
    "id": "97310a59-b7d5-44c4-81a9-c95a0314fa7d"
   },
   "outputs": [],
   "source": [
    "#split/train\n",
    "X_train, X_test, y_train, y_test = train_test_split(X, y, test_size=0.3, random_state=3)"
   ]
  },
  {
   "cell_type": "code",
   "execution_count": null,
   "metadata": {
    "id": "d1af5d11-d503-4c47-8725-6867d611837c"
   },
   "outputs": [],
   "source": [
    "print('X_train is:', X_train.shape)\n",
    "print('y_train is :', y_train.shape)"
   ]
  },
  {
   "cell_type": "markdown",
   "metadata": {
    "id": "54200de5-2a9c-432c-8229-425ac4cb8e00"
   },
   "source": [
    "### <font color = 'green'>Models used and why they were selected<font>"
   ]
  },
  {
   "cell_type": "markdown",
   "metadata": {
    "id": "B8Jj8S7wYZ2h"
   },
   "source": [
    "\n",
    "\n",
    "1.   Logistic regression\n",
    "2.   Decision tree\n",
    "1.   Random Forest\n",
    "2.   Support Vector Machine (SVM)\n",
    "1.   KNN\n",
    "2.   Bagging"
   ]
  },
  {
   "cell_type": "markdown",
   "metadata": {
    "id": "4406344d-17ec-4e79-a184-89ec6cf56508",
    "jp-MarkdownHeadingCollapsed": true,
    "tags": []
   },
   "source": [
    "#### 1. Logistic Regression"
   ]
  },
  {
   "cell_type": "code",
   "execution_count": null,
   "metadata": {
    "id": "F7HlzTvtql7l"
   },
   "outputs": [],
   "source": [
    "#instantite the model\n",
    "from sklearn.linear_model import LogisticRegression\n",
    "lr = LR = LogisticRegression(C=0.01, solver='liblinear')\n",
    "t0 = time()\n",
    "\n",
    "#fit the model\n",
    "lr.fit(X_train,y_train)\n",
    "\n",
    "# model score ant training time\n",
    "lr_score = lr.score(X_test,y_test)\n",
    "\n",
    "print(\"Logistic Regression Score: \", lr_score)\n",
    "print(\"Training time: {} seconds.\".format(round(time()-t0, 3)))"
   ]
  },
  {
   "cell_type": "code",
   "execution_count": null,
   "metadata": {
    "id": "ktUN10cpMsUX"
   },
   "outputs": [],
   "source": [
    "#predict\n",
    "pred_lr = lr.predict(X_test)\n",
    "pred_lr[0:5]"
   ]
  },
  {
   "cell_type": "code",
   "execution_count": null,
   "metadata": {
    "id": "0sV8vSlXPNFv"
   },
   "outputs": [],
   "source": [
    "# evaluation; accuracy_score\n",
    "from sklearn import metrics\n",
    "import matplotlib.pyplot as plt\n",
    "print(\"Logistic Regression's Accuracy: \", metrics.accuracy_score(y_test, pred_lr))"
   ]
  },
  {
   "cell_type": "code",
   "execution_count": null,
   "metadata": {
    "id": "42b194e5-06ae-444c-9db4-353b02204324"
   },
   "outputs": [],
   "source": [
    "# evaluation confusion matrix\n",
    "conf_mat_lr =(confusion_matrix(y_test,pred_lr, labels = [1,0])) #use labels to be explicit on the order of 1 and 0\n",
    "conf_mat_lr"
   ]
  },
  {
   "cell_type": "code",
   "execution_count": null,
   "metadata": {
    "id": "0c388da1-8230-437d-950f-d6720d4602bd"
   },
   "outputs": [],
   "source": [
    "#import make_classification and plot the confusion matrix\n",
    "sb.heatmap(conf_mat_lr, annot = True, cmap='Reds', \n",
    "            cbar_kws = {\"label\":\"color bar\"}, fmt='g',\n",
    "            xticklabels = [1,0], yticklabels = [1,0])\n",
    "plt.xlabel(\"Predicted Value\")\n",
    "plt.ylabel(\"Actual Value\");"
   ]
  },
  {
   "cell_type": "code",
   "execution_count": null,
   "metadata": {
    "id": "5cab5523-8407-4905-a8f0-9f783aaeb95c"
   },
   "outputs": [],
   "source": [
    "#classification report\n",
    "print(classification_report(y_test,pred_lr))"
   ]
  },
  {
   "cell_type": "markdown",
   "metadata": {
    "id": "5c8b43b0-abc4-4399-956d-ad7edb4fac29"
   },
   "source": [
    "       "
   ]
  },
  {
   "cell_type": "markdown",
   "metadata": {
    "id": "bdbab05f-1f5b-4876-a78b-0277db829d03",
    "jp-MarkdownHeadingCollapsed": true,
    "tags": []
   },
   "source": [
    "#### 2. Decision Tree "
   ]
  },
  {
   "cell_type": "code",
   "execution_count": null,
   "metadata": {
    "id": "a79652fa-04fc-4f7b-9ea3-56b5b3822863"
   },
   "outputs": [],
   "source": [
    "#instantite the model\n",
    "from sklearn.tree import DecisionTreeClassifier\n",
    "from sklearn import tree\n",
    "dt = tree.DecisionTreeClassifier(criterion=\"entropy\", max_depth = 4, random_state = 42)\n",
    "    \n",
    "#fit the model\n",
    "dt.fit(X_train,y_train)\n",
    "\n",
    "#Calculate time\n",
    "t0 = time()\n",
    "\n",
    "# model score\n",
    "dt_score = dt.score(X_test,y_test)\n",
    "\n",
    "print(\"Decision Tree's Score: \", dt_score)\n",
    "print(\"Training time: {} seconds.\".format(round(time()-t0, 3)))"
   ]
  },
  {
   "cell_type": "code",
   "execution_count": null,
   "metadata": {
    "id": "fd0b8b4e-459d-4bf4-b66b-1e5fd9d7a164"
   },
   "outputs": [],
   "source": [
    "#predict\n",
    "pred_dt = dt.predict(X_test)\n",
    "pred_dt[0:5]"
   ]
  },
  {
   "cell_type": "code",
   "execution_count": null,
   "metadata": {
    "id": "e956adb7-8baf-48ec-8873-5b8cb15c89ad"
   },
   "outputs": [],
   "source": [
    "# evaluation; accuracy_score\n",
    "from sklearn import metrics\n",
    "import matplotlib.pyplot as plt\n",
    "print(\"DecisionTrees's Accuracy: \", metrics.accuracy_score(y_test, pred_dt))"
   ]
  },
  {
   "cell_type": "code",
   "execution_count": null,
   "metadata": {
    "id": "22979914-3393-4261-829e-bc33a2259ca9"
   },
   "outputs": [],
   "source": [
    "# evaluation confusion matrix\n",
    "conf_mat_dt =(confusion_matrix(y_test,pred_dt, labels = [1,0])) #use labels to be explicit on the order of 1 and 0\n",
    "conf_mat_dt"
   ]
  },
  {
   "cell_type": "code",
   "execution_count": null,
   "metadata": {
    "id": "5b413020-241e-4f8d-abff-658b726a17c5"
   },
   "outputs": [],
   "source": [
    "#import make_classification and plot the confusion matrix\n",
    "sb.heatmap(conf_mat_dt, annot = True, cmap='Reds', \n",
    "            cbar_kws = {\"label\":\"color bar\"}, fmt='g',\n",
    "            xticklabels = [1,0], yticklabels = [1,0])\n",
    "plt.xlabel(\"Predicted Value\")\n",
    "plt.ylabel(\"Actual Value\");"
   ]
  },
  {
   "cell_type": "code",
   "execution_count": null,
   "metadata": {
    "id": "a9e1f9b9-dc55-40ec-b30d-6e3359eac43a"
   },
   "outputs": [],
   "source": [
    "#classification report\n",
    "print(classification_report(y_test,pred_dt))"
   ]
  },
  {
   "cell_type": "code",
   "execution_count": null,
   "metadata": {
    "id": "74a3cf1f-e38f-4c46-88d7-f78cd9ee411a"
   },
   "outputs": [],
   "source": [
    "#visualize the decision tree!\n",
    "tree.plot_tree(dt)\n",
    "plt.show()"
   ]
  },
  {
   "cell_type": "markdown",
   "metadata": {
    "id": "57cc104f-ca36-4f72-9e26-f55bd0dc56e2",
    "tags": []
   },
   "source": [
    "#### 3. Random Forest"
   ]
  },
  {
   "cell_type": "code",
   "execution_count": null,
   "metadata": {
    "id": "f95b90c6-f8e9-4494-bd9b-9a2011ec2a67"
   },
   "outputs": [],
   "source": [
    "# import and Instantiate the model\n",
    "from sklearn.ensemble import RandomForestClassifier\n",
    "rf = RandomForestClassifier(n_estimators=500, random_state=42)\n",
    "\n",
    "#Calculate time\n",
    "t0 = time()\n",
    "\n",
    "#fit the model\n",
    "rf.fit(X_train, y_train)\n",
    "\n",
    "#calculate score\n",
    "rf_score = rf.score(X_test, y_test)\n",
    "\n",
    "print(\"Random Forest Score: \", rf_score)\n",
    "print(\"Training time: {} seconds.\".format(round(time()-t0, 3)))"
   ]
  },
  {
   "cell_type": "code",
   "execution_count": null,
   "metadata": {
    "id": "91511afa-881b-47d6-a451-9a1df97d3101"
   },
   "outputs": [],
   "source": [
    "#predict\n",
    "pred_rf = rf.predict(X_test)\n",
    "pred_rf[0:5]"
   ]
  },
  {
   "cell_type": "code",
   "execution_count": null,
   "metadata": {
    "id": "a3d321af-d071-4e3c-b5b0-bfa998cbd4b1"
   },
   "outputs": [],
   "source": [
    "# evaluation; accuracy_score\n",
    "from sklearn import metrics\n",
    "import matplotlib.pyplot as plt\n",
    "print(\"Random Forests's Accuracy: \", metrics.accuracy_score(y_test, pred_rf))"
   ]
  },
  {
   "cell_type": "code",
   "execution_count": null,
   "metadata": {
    "id": "dcfd0241-ae99-4fc0-bc4e-736b0bf26959"
   },
   "outputs": [],
   "source": [
    "# evaluation confusion matrix\n",
    "conf_mat_rf =(confusion_matrix(y_test,pred_rf, labels = [1,0])) #use labels to be explicit on the order of 1 and 0\n",
    "conf_mat_rf"
   ]
  },
  {
   "cell_type": "code",
   "execution_count": null,
   "metadata": {
    "id": "543085c4-0b3a-4a2a-9888-72207d499196"
   },
   "outputs": [],
   "source": [
    "#import make_classification and plot the confusion matrix\n",
    "sb.heatmap(conf_mat_rf, annot = True, cmap='Reds', \n",
    "            cbar_kws = {\"label\":\"color bar\"}, fmt='g',\n",
    "            xticklabels = [1,0], yticklabels = [1,0])\n",
    "plt.xlabel(\"Predicted Value\")\n",
    "plt.ylabel(\"Actual Value\");"
   ]
  },
  {
   "cell_type": "code",
   "execution_count": null,
   "metadata": {
    "id": "c596cfbb-d2b1-4c71-a168-bc8cdd3d3e78"
   },
   "outputs": [],
   "source": [
    "#classification report\n",
    "print(classification_report(y_test,pred_rf))"
   ]
  },
  {
   "cell_type": "markdown",
   "metadata": {
    "id": "0d326eb4-d190-4382-8954-330b0e586844"
   },
   "source": [
    "      "
   ]
  },
  {
   "cell_type": "markdown",
   "metadata": {
    "id": "5b4b0241-9cf3-4bf5-adc0-994b7e36de1a",
    "tags": []
   },
   "source": [
    "#### 4. Support Vector Machine (SVM)"
   ]
  },
  {
   "cell_type": "code",
   "execution_count": null,
   "metadata": {
    "id": "c017bec7-e2fd-454f-b4ea-da710a2dd722"
   },
   "outputs": [],
   "source": [
    "# import and Instantiate the model\n",
    "from sklearn.svm import SVC\n",
    "svmc = SVC()\n",
    "\n",
    "#Calculate time\n",
    "t0 = time()\n",
    "\n",
    "#fit the model\n",
    "svmc.fit(X_train, y_train)\n",
    "\n",
    "#calculate score\n",
    "svmc_score = svmc.score(X_test, y_test)\n",
    "\n",
    "print(\"SVM Score: \", svmc_score)\n",
    "print(\"Training time: {} seconds.\".format(round(time()-t0, 3)))\n"
   ]
  },
  {
   "cell_type": "code",
   "execution_count": null,
   "metadata": {
    "id": "3be55a47-0ffc-4f93-9ed0-8be6b6290111"
   },
   "outputs": [],
   "source": [
    "#predict\n",
    "pred_svmc = svmc.predict(X_test)\n",
    "pred_svmc[0:5]"
   ]
  },
  {
   "cell_type": "code",
   "execution_count": null,
   "metadata": {
    "id": "3c8dd8c3-044a-49d8-8dba-3d0e8f2da49b"
   },
   "outputs": [],
   "source": [
    "# evaluation; accuracy_score\n",
    "from sklearn import metrics\n",
    "import matplotlib.pyplot as plt\n",
    "print(\"SVM's Accuracy: \", metrics.accuracy_score(y_test, pred_svmc))"
   ]
  },
  {
   "cell_type": "code",
   "execution_count": null,
   "metadata": {
    "id": "578f7b78-5ecd-4336-be41-f1f70e954fcf"
   },
   "outputs": [],
   "source": [
    "# evaluation confusion matrix\n",
    "conf_mat_svmc =(confusion_matrix(y_test,pred_svmc, labels = [1,0])) #use labels to be explicit on the order of 1 and 0\n",
    "conf_mat_svmc"
   ]
  },
  {
   "cell_type": "code",
   "execution_count": null,
   "metadata": {
    "id": "6d5b6a6c-366a-45cb-9d8f-d15f842315e5"
   },
   "outputs": [],
   "source": [
    "#import make_classification and plot the confusion matrix\n",
    "sb.heatmap(conf_mat_svmc, annot = True, cmap='Reds', \n",
    "            cbar_kws = {\"label\":\"color bar\"}, fmt='g',\n",
    "            xticklabels = [1,0], yticklabels = [1,0])\n",
    "plt.xlabel(\"Predicted Value\")\n",
    "plt.ylabel(\"Actual Value\");"
   ]
  },
  {
   "cell_type": "code",
   "execution_count": null,
   "metadata": {
    "id": "efd33735-097f-492d-b0b8-ae00e198106f"
   },
   "outputs": [],
   "source": [
    "#classification report\n",
    "print(classification_report(y_test,pred_svmc))"
   ]
  },
  {
   "cell_type": "markdown",
   "metadata": {
    "id": "d0894da9-6283-49f8-bfa0-3cb88716987d"
   },
   "source": [
    "      "
   ]
  },
  {
   "cell_type": "markdown",
   "metadata": {
    "id": "4ea2efad-b434-4903-b96c-c9e63eadc2ec",
    "tags": []
   },
   "source": [
    "#### 5. KNN"
   ]
  },
  {
   "cell_type": "code",
   "execution_count": null,
   "metadata": {
    "id": "eaca40a3-069e-4a8b-a097-d2bb1a024a23"
   },
   "outputs": [],
   "source": [
    "# import and Instantiate the model\n",
    "from sklearn.neighbors import KNeighborsClassifier\n",
    "knn = KNeighborsClassifier(n_neighbors=50)\n",
    "\n",
    "#calculate time\n",
    "t0 = time()\n",
    "\n",
    "#fit the model\n",
    "knn.fit(X_train, y_train)\n",
    "\n",
    "#calculate score\n",
    "knn_score = knn.score(X_test, y_test)\n",
    "\n",
    "print(\"KNN Score: \", knn_score)\n",
    "print(\"Training time: {} seconds.\".format(round(time()-t0, 3)))\n"
   ]
  },
  {
   "cell_type": "code",
   "execution_count": null,
   "metadata": {
    "id": "1638d66c-9884-465e-b21b-66170ab2dfce"
   },
   "outputs": [],
   "source": [
    "#predict\n",
    "pred_knn = knn.predict(X_test)\n",
    "pred_knn[0:5]"
   ]
  },
  {
   "cell_type": "code",
   "execution_count": null,
   "metadata": {
    "id": "9b5c03c1-5f92-454e-ade3-f9734e198ad3"
   },
   "outputs": [],
   "source": [
    "# evaluation; accuracy_score\n",
    "from sklearn import metrics\n",
    "import matplotlib.pyplot as plt\n",
    "print(\"KNN's Accuracy: \", metrics.accuracy_score(y_test, pred_knn))"
   ]
  },
  {
   "cell_type": "code",
   "execution_count": null,
   "metadata": {
    "id": "3858d255-fc82-4e2e-ba6f-f8fdb1d30efc"
   },
   "outputs": [],
   "source": [
    "# evaluation confusion matrix\n",
    "conf_mat_knn =(confusion_matrix(y_test,pred_knn, labels = [1,0])) #use labels to be explicit on the order of 1 and 0\n",
    "conf_mat_knn"
   ]
  },
  {
   "cell_type": "code",
   "execution_count": null,
   "metadata": {
    "id": "4dabf4d3-41d7-4a47-aed2-7dc3a87ad4df"
   },
   "outputs": [],
   "source": [
    "#import make_classification and plot the confusion matrix\n",
    "sb.heatmap(conf_mat_knn, annot = True, cmap='Reds', \n",
    "            cbar_kws = {\"label\":\"color bar\"}, fmt='g',\n",
    "            xticklabels = [1,0], yticklabels = [1,0])\n",
    "plt.xlabel(\"Predicted Value\")\n",
    "plt.ylabel(\"Actual Value\");"
   ]
  },
  {
   "cell_type": "code",
   "execution_count": null,
   "metadata": {
    "id": "78c99435-c8f3-4e28-8577-9715921fe109"
   },
   "outputs": [],
   "source": [
    "#classification report\n",
    "print(classification_report(y_test,pred_knn))"
   ]
  },
  {
   "cell_type": "markdown",
   "metadata": {
    "id": "f24ac3f6-f269-4551-aec1-6c42f75d6015"
   },
   "source": [
    "      "
   ]
  },
  {
   "cell_type": "markdown",
   "metadata": {
    "id": "a7225caf-75b4-4e8e-9c81-17e6b0fa1339",
    "tags": []
   },
   "source": [
    "#### 6. Bagging"
   ]
  },
  {
   "cell_type": "code",
   "execution_count": null,
   "metadata": {
    "id": "13769a23-8e32-4148-bc72-c2003e30639e"
   },
   "outputs": [],
   "source": [
    "#Bagging\n",
    "from sklearn.ensemble import BaggingClassifier\n",
    "bag = BaggingClassifier(n_estimators=20, random_state=0)\n",
    "\n",
    "#calculate time \n",
    "t0 = time()\n",
    "\n",
    "#fit the model\n",
    "bag.fit(X_train, y_train)\n",
    "\n",
    "#calculate score\n",
    "bag_score = bag.score(X_test, y_test)\n",
    "bag_score\n",
    "\n",
    "print(\"Bagging Score: \", bag_score)\n",
    "print(\"Training time: {} seconds.\".format(round(time()-t0, 3)))"
   ]
  },
  {
   "cell_type": "code",
   "execution_count": null,
   "metadata": {
    "id": "02e2e8c2-5bd7-4cf1-948c-a47888b42ee9"
   },
   "outputs": [],
   "source": [
    "#predict\n",
    "pred_bag = bag.predict(X_test)\n",
    "pred_bag[0:5]"
   ]
  },
  {
   "cell_type": "code",
   "execution_count": null,
   "metadata": {
    "id": "2fc731aa-f458-4fae-8420-0921a7fdbbcd"
   },
   "outputs": [],
   "source": [
    "# evaluation; accuracy_score\n",
    "from sklearn import metrics\n",
    "import matplotlib.pyplot as plt\n",
    "\n",
    "\n",
    "print(\"Bagging's Accuracy: \", metrics.accuracy_score(y_test, pred_bag))"
   ]
  },
  {
   "cell_type": "code",
   "execution_count": null,
   "metadata": {
    "id": "fba05cdf-32d2-4dc4-93a9-805e03876d8a"
   },
   "outputs": [],
   "source": [
    "# evaluation confusion matrix\n",
    "conf_mat_bag =(confusion_matrix(y_test,pred_bag, labels = [1,0])) #use labels to be explicit on the order of 1 and 0\n",
    "conf_mat_bag"
   ]
  },
  {
   "cell_type": "code",
   "execution_count": null,
   "metadata": {
    "id": "2a54f9a2-672f-4307-8de7-26f439fdd174"
   },
   "outputs": [],
   "source": [
    "#import make_classification and plot the confusion matrix\n",
    "sns.heatmap(conf_mat_bag, annot = True, cmap='Purples', \n",
    "            cbar_kws = {\"label\":\"color bar\"}, fmt='g',\n",
    "            xticklabels = [1,0], yticklabels = [1,0])\n",
    "plt.xlabel(\"Predicted Value\")\n",
    "plt.ylabel(\"Actual Value\");"
   ]
  },
  {
   "cell_type": "code",
   "execution_count": null,
   "metadata": {
    "id": "bccc096c-a535-41f7-96c4-e7a526a98163"
   },
   "outputs": [],
   "source": [
    "#classification report\n",
    "print(classification_report(y_test,pred_bag))"
   ]
  },
  {
   "cell_type": "markdown",
   "metadata": {
    "id": "_sCgT3K5hTJU"
   },
   "source": [
    "- Type your observations here"
   ]
  },
  {
   "cell_type": "markdown",
   "metadata": {
    "id": "PkzwExwkhUZJ"
   },
   "source": [
    "- Type your recommendations here"
   ]
  },
  {
   "cell_type": "markdown",
   "metadata": {
    "id": "T7Pez3dXhUoJ"
   },
   "source": [
    "## <font color = 'blue'>Conclusion<font>"
   ]
  },
  {
   "cell_type": "markdown",
   "metadata": {
    "id": "EY-uhmqOZltG"
   },
   "source": [
    "We did exploration of the data to get a hinge of the data. We then performed Univariate and Bivariate analyses, as well as data visualization were performed on the target and features variables.\n",
    "\n",
    "To ensure that this forecast is as accurate as possible, we also performed a full feature engineering which includes all of the necessary valid processes for the model engineering.\n",
    "\n",
    "Based on the aforementioned model accuracy, Random Forest provided 90% accuracy. Demonstrating that it is the most appropriate model for the prediction."
   ]
  },
  {
   "cell_type": "markdown",
   "metadata": {
    "id": "oLCP-ua01I94"
   },
   "source": [
    "We did exploration of the data to get a hinge of the data. We then performed Univariate and Bivariate analyses, as well as data visualization were performed on the target and features variables.\n",
    "\n",
    "To ensure that this forecast is as accurate as possible, we also performed a full feature engineering  which includes all of the necessary valid processes for the model engineering.\n",
    "\n",
    "Based on the aforementioned model accuracy, Random Forest provided 90% accuracy. Demonstrating that it is the most appropriate model for the prediction."
   ]
  },
  {
   "cell_type": "code",
   "execution_count": null,
   "metadata": {
    "id": "gUKYs-Bm00id"
   },
   "outputs": [],
   "source": []
  }
 ],
 "metadata": {
  "colab": {
   "provenance": []
  },
  "kernelspec": {
   "display_name": "Python 3",
   "language": "python",
   "name": "python3"
  },
  "language_info": {
   "codemirror_mode": {
    "name": "ipython",
    "version": 3
   },
   "file_extension": ".py",
   "mimetype": "text/x-python",
   "name": "python",
   "nbconvert_exporter": "python",
   "pygments_lexer": "ipython3",
   "version": "3.7.3"
  },
  "toc-autonumbering": false
 },
 "nbformat": 4,
 "nbformat_minor": 5
}
